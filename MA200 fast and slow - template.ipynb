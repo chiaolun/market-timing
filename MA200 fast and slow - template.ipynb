{
 "cells": [
  {
   "cell_type": "code",
   "execution_count": null,
   "metadata": {
    "tags": [
     "parameters"
    ]
   },
   "outputs": [],
   "source": [
    "# Parameters\n",
    "symbol = '^GSPC'\n",
    "start_date = '1970'\n",
    "leverage = 1."
   ]
  },
  {
   "cell_type": "markdown",
   "metadata": {},
   "source": [
    "### Chiao Cheng <chiaolun@gmail.com>\n",
    "### Inspirations\n",
    "* https://theirrelevantinvestor.com/2019/02/08/miss-the-worst-days-miss-the-best-days/\n",
    "* https://awealthofcommonsense.com/2020/03/what-if-you-buy-stocks-too-early-during-a-market-crash/\n",
    "* https://awealthofcommonsense.com/2020/04/would-you-rather-buy-too-early-or-buy-too-late-in-a-bear-market/\n",
    "* https://mebfaber.com/2019/11/04/is-buying-stocks-at-an-all-time-high-a-good-idea/"
   ]
  },
  {
   "cell_type": "code",
   "execution_count": null,
   "metadata": {},
   "outputs": [],
   "source": [
    "%matplotlib inline"
   ]
  },
  {
   "cell_type": "code",
   "execution_count": null,
   "metadata": {},
   "outputs": [],
   "source": [
    "import pandas as pd\n",
    "import numpy as np\n",
    "import yfinance as yf\n",
    "\n",
    "import numba\n",
    "\n",
    "import matplotlib as mpl\n",
    "import matplotlib.pyplot as plt\n",
    "import matplotlib.ticker as ticker\n",
    "from IPython.display import set_matplotlib_formats\n",
    "\n",
    "# set_matplotlib_formats('svg')\n",
    "mpl.rcParams['figure.figsize'] = [16, 12]"
   ]
  },
  {
   "cell_type": "code",
   "execution_count": null,
   "metadata": {},
   "outputs": [],
   "source": [
    "data = yf.Ticker(symbol).history(period='max', auto_adjust=True)[start_date:]"
   ]
  },
  {
   "cell_type": "code",
   "execution_count": null,
   "metadata": {},
   "outputs": [],
   "source": [
    "# Note that when using ^GSPC, there are no dividends, and it's also \n",
    "# not really directly tradeable - I'll do a continuous futures version \n",
    "# at some point\n",
    "\n",
    "# Rest of analysis assumes non-stock allocation is in cash, \n",
    "# but in reality you would have some gains from being in bonds as well\n",
    "\n",
    "# We add transaction costs further down this sheet\n",
    "\n",
    "rets = data['Close'].transform(lambda xs: xs / xs.shift() - 1).rename('rets')\n",
    "ma200 = data.Close.rolling(200).mean()"
   ]
  },
  {
   "cell_type": "code",
   "execution_count": null,
   "metadata": {},
   "outputs": [],
   "source": [
    "# The 200-day moving average (MA200) is a lagging, smoother version of the original data\n",
    "data.Close.plot(logy=True)\n",
    "ma200.plot(logy=True);"
   ]
  },
  {
   "cell_type": "code",
   "execution_count": null,
   "metadata": {},
   "outputs": [],
   "source": [
    "# It can be used for betting on momentum, doing market timing by being long when the close is above the MA200\n",
    "position = (data.Close > ma200).astype(int)\n",
    "position[ma200.isnull()] = np.nan\n",
    "position = position.shift()  # Delay by one day\n",
    "position.plot()"
   ]
  },
  {
   "cell_type": "code",
   "execution_count": null,
   "metadata": {},
   "outputs": [],
   "source": [
    "strats = pd.DataFrame({\n",
    "    'buy_and_hold': 1, \n",
    "    'ma200': position * leverage\n",
    "})"
   ]
  },
  {
   "cell_type": "code",
   "execution_count": null,
   "metadata": {},
   "outputs": [],
   "source": [
    "def plot_dd(rets):\n",
    "    c_pl = rets.add(1).cumprod()\n",
    "\n",
    "    c_pl.plot(lw=1, color='black', logy=True)\n",
    "    plt.fill_between(\n",
    "        c_pl.index,\n",
    "        c_pl,\n",
    "        c_pl.cummax(),\n",
    "        facecolor='red',\n",
    "        alpha=0.5,\n",
    "    )"
   ]
  },
  {
   "cell_type": "code",
   "execution_count": null,
   "metadata": {},
   "outputs": [],
   "source": [
    "# This is the plain old SP500\n",
    "plot_dd(strats.buy_and_hold.mul(rets, axis=0))"
   ]
  },
  {
   "cell_type": "code",
   "execution_count": null,
   "metadata": {},
   "outputs": [],
   "source": [
    "# This is with the MA200 crossover timing - the returns are lower but drawdowns are less deep\n",
    "plot_dd(strats.ma200.mul(rets, axis=0))"
   ]
  },
  {
   "cell_type": "code",
   "execution_count": null,
   "metadata": {},
   "outputs": [],
   "source": [
    "# Slightly worse returns\n",
    "strats.mul(rets, axis=0).add(1).apply(np.log).mean().mul(250).apply(np.exp).sub(1)"
   ]
  },
  {
   "cell_type": "code",
   "execution_count": null,
   "metadata": {},
   "outputs": [],
   "source": [
    "# Better worst and average drawdown\n",
    "(\n",
    "    strats.mul(rets, axis=0)\n",
    "    .add(1).cumprod()\n",
    "    .transform(lambda xs: xs / xs.cummax() - 1)\n",
    "    .agg(['min', 'mean'])\n",
    "    .T\n",
    ")"
   ]
  },
  {
   "cell_type": "code",
   "execution_count": null,
   "metadata": {},
   "outputs": [],
   "source": [
    "# These results are all before accounting for trading costs!\n",
    "# Turnover can be awfully high - 20x in some years! You are trading in and out of the market a lot\n",
    "# Some concerns about overfitting due to sensitivity to exactly when the crossings happen\n",
    "(\n",
    "    strats.ma200.diff().abs()\n",
    "    .groupby(pd.Grouper(freq='Y')).sum()\n",
    "    .rename(index=lambda xs: xs.year)\n",
    "    .plot.bar()\n",
    ")"
   ]
  },
  {
   "cell_type": "code",
   "execution_count": null,
   "metadata": {},
   "outputs": [],
   "source": [
    "# Let's smoothen the signal by acting slowly on it!\n",
    "@numba.njit\n",
    "def _smoothen(signal, nsteps, leverage):\n",
    "    pos = np.zeros_like(signal, dtype=np.float64)\n",
    "    pos[0] = leverage\n",
    "    for i in range(1, pos.shape[0]):\n",
    "        if signal[i] > pos[i - 1] + 1e-5:\n",
    "            d = leverage / nsteps\n",
    "        elif signal[i] < pos[i - 1] - 1e-5:\n",
    "            d = -leverage / nsteps\n",
    "        else:\n",
    "            d = 0\n",
    "        pos[i] = pos[i - 1] + d\n",
    "    return pos\n",
    "\n",
    "\n",
    "def smoothen(signal, nsteps, leverage):\n",
    "    return pd.Series(\n",
    "        _smoothen(signal.values, nsteps, leverage),\n",
    "        index=signal.index\n",
    "    )"
   ]
  },
  {
   "cell_type": "code",
   "execution_count": null,
   "metadata": {},
   "outputs": [],
   "source": [
    "strats['ma200_slow'] = smoothen(strats.ma200, 90, leverage)"
   ]
  },
  {
   "cell_type": "code",
   "execution_count": null,
   "metadata": {},
   "outputs": [],
   "source": [
    "# Smoothed MA200 crossover\n",
    "plot_dd(strats.ma200_slow * rets)"
   ]
  },
  {
   "cell_type": "code",
   "execution_count": null,
   "metadata": {},
   "outputs": [],
   "source": [
    "# Turnover is way down\n",
    "(\n",
    "    strats.ma200_slow.diff().abs()\n",
    "    .groupby(pd.Grouper(freq='Y')).sum()\n",
    "    .rename(index=lambda xs: xs.year)\n",
    "    .plot.bar()\n",
    ")"
   ]
  },
  {
   "cell_type": "code",
   "execution_count": null,
   "metadata": {},
   "outputs": [],
   "source": [
    "# Average annual returns\n",
    "strats.mul(rets, axis=0).add(1).apply(np.log).mean().mul(250).apply(np.exp).sub(1)"
   ]
  },
  {
   "cell_type": "code",
   "execution_count": null,
   "metadata": {},
   "outputs": [],
   "source": [
    "# Sharpe ratios\n",
    "strats.mul(rets, axis=0).agg(lambda xs: xs.mean() / xs.std() * 250**0.5)"
   ]
  },
  {
   "cell_type": "code",
   "execution_count": null,
   "metadata": {},
   "outputs": [],
   "source": [
    "# Drawdowns\n",
    "dd = (\n",
    "    strats.mul(rets, axis=0)\n",
    "    .add(1).cumprod()\n",
    "    .transform(lambda xs: xs / xs.cummax() - 1)\n",
    ")\n",
    "dd_agg = dd.agg(['min', 'mean'])\n",
    "print(dd_agg)\n",
    "dd_agg.plot.bar()"
   ]
  },
  {
   "cell_type": "code",
   "execution_count": null,
   "metadata": {},
   "outputs": [],
   "source": [
    "# Drawdowns side by side\n",
    "dd.plot(lw=1)"
   ]
  },
  {
   "cell_type": "code",
   "execution_count": null,
   "metadata": {},
   "outputs": [],
   "source": [
    "# Original signal slams on and off\n",
    "strats.ma200.plot()"
   ]
  },
  {
   "cell_type": "code",
   "execution_count": null,
   "metadata": {},
   "outputs": [],
   "source": [
    "# New signal drifts in and out\n",
    "strats.ma200_slow.plot()"
   ]
  },
  {
   "cell_type": "code",
   "execution_count": null,
   "metadata": {},
   "outputs": [],
   "source": [
    "# The original signal has trades on 4.2% of all days\n",
    "strats.ma200.diff().ne(0).mean()"
   ]
  },
  {
   "cell_type": "code",
   "execution_count": null,
   "metadata": {},
   "outputs": [],
   "source": [
    "# Smoothened signal trades (a much smaller amount in aggregate) on ~30% of all days\n",
    "strats.ma200_slow.diff().ne(0).mean()"
   ]
  },
  {
   "cell_type": "code",
   "execution_count": null,
   "metadata": {},
   "outputs": [],
   "source": [
    "# Some years as many as 80% of all days\n",
    "strats.ma200_slow.diff().ne(0).groupby(pd.Grouper(freq='Y')).mean().rename(index=lambda xs: xs.year).plot.bar()"
   ]
  },
  {
   "cell_type": "code",
   "execution_count": null,
   "metadata": {},
   "outputs": [],
   "source": [
    "# Account for how allocation drifts with return \n",
    "# f.(r + 1) / (f.r + 1)\n",
    "pos_with_drift = (\n",
    "    strats.shift().mul(rets + 1, axis=0)\n",
    "    .div(strats.shift().mul(rets, axis=0).add(1), axis=0)\n",
    ")\n",
    "# Assume 20 bps transaction cost\n",
    "costs = strats.sub(pos_with_drift).abs().mul(20. / 10000)"
   ]
  },
  {
   "cell_type": "code",
   "execution_count": null,
   "metadata": {},
   "outputs": [],
   "source": [
    "# Slow strategy costs at most 50 bps a year to execute\n",
    "costs.ma200_slow.groupby(pd.Grouper(freq='Y')).sum().rename(index=lambda xs: xs.year).plot.bar()"
   ]
  },
  {
   "cell_type": "code",
   "execution_count": null,
   "metadata": {},
   "outputs": [],
   "source": [
    "# Contrast with original signal - a few percent a year!\n",
    "costs.ma200.groupby(pd.Grouper(freq='Y')).sum().rename(index=lambda xs: xs.year).plot.bar()"
   ]
  },
  {
   "cell_type": "code",
   "execution_count": null,
   "metadata": {},
   "outputs": [],
   "source": [
    "rets_after_costs = strats.mul(rets, axis=0) - costs"
   ]
  },
  {
   "cell_type": "code",
   "execution_count": null,
   "metadata": {},
   "outputs": [],
   "source": [
    "# Difference from buy and hold by year\n",
    "(\n",
    "    (rets_after_costs.ma200_slow + 1) \n",
    "    .div(rets_after_costs.buy_and_hold + 1)\n",
    "    .cumprod().plot()\n",
    ")"
   ]
  },
  {
   "cell_type": "code",
   "execution_count": null,
   "metadata": {},
   "outputs": [],
   "source": [
    "# Difference from buy and hold by year\n",
    "(\n",
    "    (rets_after_costs.ma200_slow + 1) \n",
    "    .div(rets_after_costs.buy_and_hold + 1)\n",
    "    .groupby(pd.Grouper(freq='Y')).prod().sub(1)\n",
    "    .rename(index=lambda xs: xs.year).plot.bar()\n",
    ")"
   ]
  },
  {
   "cell_type": "code",
   "execution_count": null,
   "metadata": {},
   "outputs": [],
   "source": [
    "# Pretty much no alpha! This is just risk management.\n",
    "(\n",
    "    pd.concat([strats.ma200_slow.rename('pos'), rets], axis=1)\n",
    "    .assign(strat_rets=lambda df: df.pos * df.rets)\n",
    "    .groupby(pd.Grouper(freq='5Y'))\n",
    "    .mean()\n",
    "    .assign(\n",
    "        beta=lambda df: df.pos * df.rets, \n",
    "        alpha=lambda df: df.strat_rets - df.beta\n",
    "    ).mul(250)\n",
    "    [['alpha', 'beta']]\n",
    "    .rename(index=lambda xs: xs.year).plot.bar()\n",
    ")"
   ]
  },
  {
   "cell_type": "code",
   "execution_count": null,
   "metadata": {},
   "outputs": [],
   "source": [
    "# Side by side, with transaction costs\n",
    "rets_after_costs.add(1).cumprod().plot(logy=True)"
   ]
  },
  {
   "cell_type": "code",
   "execution_count": null,
   "metadata": {},
   "outputs": [],
   "source": [
    "# Sharpe ratios\n",
    "rets_after_costs.agg(lambda xs: xs.mean() / xs.std() * 250**0.5)"
   ]
  }
 ],
 "metadata": {
  "celltoolbar": "Tags",
  "kernelspec": {
   "display_name": "Python 3",
   "language": "python",
   "name": "python3"
  },
  "language_info": {
   "codemirror_mode": {
    "name": "ipython",
    "version": 3
   },
   "file_extension": ".py",
   "mimetype": "text/x-python",
   "name": "python",
   "nbconvert_exporter": "python",
   "pygments_lexer": "ipython3",
   "version": "3.7.5"
  }
 },
 "nbformat": 4,
 "nbformat_minor": 4
}
